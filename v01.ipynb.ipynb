{
 "cells": [
  {
   "cell_type": "code",
   "execution_count": 0,
   "metadata": {
    "application/vnd.databricks.v1+cell": {
     "cellMetadata": {
      "byteLimit": 2048000,
      "rowLimit": 10000
     },
     "inputWidgets": {},
     "nuid": "c03cf58c-e4af-4692-b722-439cbce20f40",
     "showTitle": false,
     "tableResultSettingsMap": {},
     "title": ""
    }
   },
   "outputs": [],
   "source": [
    "%restart_python"
   ]
  },
  {
   "cell_type": "code",
   "execution_count": 0,
   "metadata": {
    "application/vnd.databricks.v1+cell": {
     "cellMetadata": {
      "byteLimit": 2048000,
      "rowLimit": 10000
     },
     "inputWidgets": {},
     "nuid": "c50a68de-6215-44de-9214-5b25ce3ea4e1",
     "showTitle": false,
     "tableResultSettingsMap": {},
     "title": ""
    }
   },
   "outputs": [],
   "source": [
    "from pyspark.sql import functions as F\n",
    "from pyspark.sql.functions import col, year, month, dayofmonth, hour, to_timestamp, when, lit\n",
    "from pyspark.sql.types import ArrayType, DoubleType,StringType\n",
    "import matplotlib.pyplot as plt\n",
    "from pyspark.sql import DataFrame\n",
    "from pyspark.sql.window import Window\n",
    "import seaborn as sns\n",
    "import pandas as pd\n",
    "\n",
    "from utils._categorical_summary import cat_summary\n",
    "from utils._check_dataframe import check_dataframe\n",
    "from utils._descriptive_statistics import desc_stats\n",
    "from utils._num_summary import num_summary\n",
    "from utils._categorical_with_numerical import calculate_aggregation, cat_with_numerical"
   ]
  },
  {
   "cell_type": "code",
   "execution_count": 0,
   "metadata": {
    "application/vnd.databricks.v1+cell": {
     "cellMetadata": {
      "byteLimit": 2048000,
      "rowLimit": 10000
     },
     "inputWidgets": {},
     "nuid": "69a5d8a0-fe09-4f87-86e4-3fa708164bcb",
     "showTitle": false,
     "tableResultSettingsMap": {},
     "title": ""
    }
   },
   "outputs": [],
   "source": [
    "catalog_name = 'samples'\n",
    "schema_name = 'nyctaxi'\n",
    "table_name = 'trips'\n",
    "\n",
    "full_table_path = f'{catalog_name}.{schema_name}.{table_name}'\n",
    "\n",
    "df = spark.table(full_table_path)"
   ]
  },
  {
   "cell_type": "code",
   "execution_count": 0,
   "metadata": {
    "application/vnd.databricks.v1+cell": {
     "cellMetadata": {
      "byteLimit": 2048000,
      "rowLimit": 10000
     },
     "inputWidgets": {},
     "nuid": "2b9ff8a2-8450-48c1-bd8f-9ba7f5206288",
     "showTitle": false,
     "tableResultSettingsMap": {},
     "title": ""
    }
   },
   "outputs": [],
   "source": [
    "check_dataframe(df)"
   ]
  },
  {
   "cell_type": "markdown",
   "metadata": {
    "application/vnd.databricks.v1+cell": {
     "cellMetadata": {
      "byteLimit": 2048000,
      "rowLimit": 10000
     },
     "inputWidgets": {},
     "nuid": "6ea7480b-44ab-4ab8-834d-9e5b431db752",
     "showTitle": false,
     "tableResultSettingsMap": {},
     "title": ""
    }
   },
   "source": [
    "- In this output, we can easily see the general outline of the data set. Before analyzing the data set we have, we need to perform some simple operations on it so that the insights we gain from the data are accurate.\n",
    "\n",
    "- In this context, we will first convert the data types of some columns in the dataset from numerical to string format (see pickup_zipcode, dropoff_zipcode). After that, we have two important variables that can provide us with very important information. These are pickup_datetime and dropoff_datetime. With these two variables, we will obtain the duration of the trip in minutes. By establishing an interaction between the trip_duration_minute variable we created with trip_distance, we will obtain the average hourly speed value. \n",
    "\n",
    "- Using these new variables, we will perform outlier analysis on the dataset, removing illogical cases from the dataset or suppressing them appropriately."
   ]
  },
  {
   "cell_type": "code",
   "execution_count": 0,
   "metadata": {
    "application/vnd.databricks.v1+cell": {
     "cellMetadata": {
      "byteLimit": 2048000,
      "rowLimit": 10000
     },
     "inputWidgets": {},
     "nuid": "01c96145-d98f-43fa-9096-59188fe67207",
     "showTitle": false,
     "tableResultSettingsMap": {},
     "title": ""
    }
   },
   "outputs": [],
   "source": [
    "df = df.withColumn('pickup_zip', F.col('pickup_zip').cast('string'))\n",
    "df = df.withColumn('dropoff_zip', F.col('dropoff_zip').cast('string') )"
   ]
  },
  {
   "cell_type": "code",
   "execution_count": 0,
   "metadata": {
    "application/vnd.databricks.v1+cell": {
     "cellMetadata": {
      "byteLimit": 2048000,
      "rowLimit": 10000
     },
     "inputWidgets": {},
     "nuid": "d20845e7-6c1b-4ae1-b8cc-20d81c70b334",
     "showTitle": false,
     "tableResultSettingsMap": {},
     "title": ""
    }
   },
   "outputs": [],
   "source": [
    "df = df.withColumnRenamed(\"tpep_pickup_datetime\", \"pickup_datetime\") \\\n",
    "        .withColumnRenamed(\"tpep_dropoff_datetime\", \"dropoff_datetime\") \\\n",
    "        .withColumn(\"trip_duration_minutes\", (F.col(\"dropoff_datetime\").cast(\"long\") - F.col(\"pickup_datetime\").cast(\"long\")) / 60 ) \\\n",
    "        .withColumn('trip_duration_minutes', F.round(F.col('trip_duration_minutes'), 2))"
   ]
  },
  {
   "cell_type": "code",
   "execution_count": 0,
   "metadata": {
    "application/vnd.databricks.v1+cell": {
     "cellMetadata": {
      "byteLimit": 2048000,
      "rowLimit": 10000
     },
     "inputWidgets": {},
     "nuid": "530beeea-628c-4215-b077-4e2b2ada217a",
     "showTitle": false,
     "tableResultSettingsMap": {},
     "title": ""
    }
   },
   "outputs": [],
   "source": [
    "df = df.withColumn(\n",
    "    \"avg_speed_mph\",\n",
    "    F.when(\n",
    "        F.col(\"trip_duration_minutes\") > 0,  \n",
    "        F.col(\"trip_distance\") / (F.col(\"trip_duration_minutes\") / 60) \n",
    "    ).otherwise(\n",
    "        F.lit(None).cast(\"double\")\n",
    "    )\n",
    ").withColumn(\n",
    "    'avg_speed_mph',\n",
    "    F.round(F.col('avg_speed_mph'), 3)\n",
    ")"
   ]
  },
  {
   "cell_type": "code",
   "execution_count": 0,
   "metadata": {
    "application/vnd.databricks.v1+cell": {
     "cellMetadata": {
      "byteLimit": 2048000,
      "rowLimit": 10000
     },
     "inputWidgets": {},
     "nuid": "cbeef2bf-03d1-4f1c-ad79-e2e4781df2fb",
     "showTitle": false,
     "tableResultSettingsMap": {},
     "title": ""
    }
   },
   "outputs": [],
   "source": [
    "df = df.withColumn(\n",
    "    \"Trip_Type\", \n",
    "    F.when(\n",
    "        \n",
    "        F.col(\"pickup_zip\") == F.col(\"dropoff_zip\"), \n",
    "        F.lit(\"In-Zone\") \n",
    "    ).otherwise(\n",
    "        F.lit(\"Out-of-Zone\") \n",
    "    )\n",
    ")"
   ]
  },
  {
   "cell_type": "code",
   "execution_count": 0,
   "metadata": {
    "application/vnd.databricks.v1+cell": {
     "cellMetadata": {
      "byteLimit": 2048000,
      "rowLimit": 10000
     },
     "inputWidgets": {},
     "nuid": "159a231c-9585-48a8-a064-7d1f45f0e30f",
     "showTitle": false,
     "tableResultSettingsMap": {},
     "title": ""
    }
   },
   "outputs": [],
   "source": [
    "df = df.withColumn(\n",
    "        'zip_lower',\n",
    "        F.when(\n",
    "            F.col('pickup_zip').cast('string') <= F.col('dropoff_zip').cast('string'), \n",
    "            F.col('pickup_zip')\n",
    "        ).otherwise(F.col('dropoff_zip'))\n",
    "    )\n",
    "\n",
    "\n",
    "df = df.withColumn(\n",
    "        'zip_greater',\n",
    "        F.when(\n",
    "            F.col('pickup_zip').cast('string') > F.col('dropoff_zip').cast('string'), \n",
    "            F.col('pickup_zip')\n",
    "        ).otherwise(F.col('dropoff_zip'))\n",
    "    )\n",
    "\n",
    "df = df.withColumn(\n",
    "        'Combined_Zip',\n",
    "        F.concat(\n",
    "            F.col('zip_lower').cast('string'), \n",
    "            F.lit(' - '), \n",
    "            F.col('zip_greater').cast('string')\n",
    "        ).cast(StringType())\n",
    "    )\n",
    "df = df.drop('zip_lower', 'zip_greater')"
   ]
  },
  {
   "cell_type": "code",
   "execution_count": 0,
   "metadata": {
    "application/vnd.databricks.v1+cell": {
     "cellMetadata": {
      "byteLimit": 2048000,
      "rowLimit": 10000
     },
     "inputWidgets": {},
     "nuid": "482d26a2-44f7-4390-8d59-38b6f036623f",
     "showTitle": false,
     "tableResultSettingsMap": {},
     "title": ""
    }
   },
   "outputs": [],
   "source": [
    "check_dataframe(df)"
   ]
  },
  {
   "cell_type": "code",
   "execution_count": 0,
   "metadata": {
    "application/vnd.databricks.v1+cell": {
     "cellMetadata": {
      "byteLimit": 2048000,
      "rowLimit": 10000
     },
     "inputWidgets": {},
     "nuid": "2fd976ef-ecd3-40e8-9ab3-2aa78dc1b217",
     "showTitle": false,
     "tableResultSettingsMap": {},
     "title": ""
    }
   },
   "outputs": [],
   "source": [
    "numerical_cols = ['trip_distance', 'fare_amount', 'trip_duration_minutes', 'avg_speed_mph']\n",
    "\n",
    "for col_name in numerical_cols:\n",
    "    df = df.withColumn(col_name, F.col(col_name).cast(DoubleType()))\n",
    "\n",
    "desc_stats(df, numerical_cols)"
   ]
  },
  {
   "cell_type": "markdown",
   "metadata": {
    "application/vnd.databricks.v1+cell": {
     "cellMetadata": {
      "byteLimit": 2048000,
      "rowLimit": 10000
     },
     "inputWidgets": {},
     "nuid": "17692a32-8fb2-45da-9e04-01fd21265beb",
     "showTitle": false,
     "tableResultSettingsMap": {},
     "title": ""
    }
   },
   "source": [
    "- When we look at the distribution of numeric variables here, we can see obvious errors in our data.\n",
    "\n",
    "- For example, in the variable named fare_amount, the minimum value is -8. A negative value in an amount variable clearly indicates incorrect data entry.\n",
    "\n",
    "- Another error occurs between the trip_distance and trip_duration_minutes variables. The trip_distance variable has a skewed distribution with a mean of 2.85, a standard deviation of 3.44, and a mean of 30.60. However, when we look at the trip_duration_minutes variable, we see a variable with a mean of 15.12 and a standard deviation of 52.84, ranging from 0 to 1438.85. The fact that a 1438-minute journey is 30.60 miles seems far from reality. There are likely outliers or incorrect data entries.              "
   ]
  },
  {
   "cell_type": "code",
   "execution_count": 0,
   "metadata": {
    "application/vnd.databricks.v1+cell": {
     "cellMetadata": {
      "byteLimit": 2048000,
      "rowLimit": 10000
     },
     "inputWidgets": {},
     "nuid": "b3bd451e-81d5-4302-ad5f-bd4f99a44edf",
     "showTitle": false,
     "tableResultSettingsMap": {},
     "title": ""
    }
   },
   "outputs": [],
   "source": [
    "num_summary(df, numerical_cols=[\"trip_distance\"], plot=True)"
   ]
  },
  {
   "cell_type": "markdown",
   "metadata": {
    "application/vnd.databricks.v1+cell": {
     "cellMetadata": {
      "byteLimit": 2048000,
      "rowLimit": 10000
     },
     "inputWidgets": {},
     "nuid": "893ef20e-0db0-4edb-a4e4-5d8c5f4b0b01",
     "showTitle": false,
     "tableResultSettingsMap": {},
     "title": ""
    }
   },
   "source": [
    "- In the Trip_Distance variable, the data ranges from 0 to 30.6. The mean is 2.85 and the standard deviation is 3.43.\n",
    "\n",
    "- We can clearly say that this distribution contains outliers. We need to set thresholds to minimize the loss of rows and remove values ​​above and below these thresholds from the dataset.\n",
    "\n",
    "- To achieve this, I tested various threshold values ​​and found that the threshold values ​​that resulted in the least information loss were [0.035, 0.965]. I begin the data cleaning process by removing values ​​below and above these values ​​from the dataset."
   ]
  },
  {
   "cell_type": "code",
   "execution_count": 0,
   "metadata": {
    "application/vnd.databricks.v1+cell": {
     "cellMetadata": {
      "byteLimit": 2048000,
      "rowLimit": 10000
     },
     "inputWidgets": {},
     "nuid": "e227b3be-dfbc-483d-b101-e63a4e67814a",
     "showTitle": false,
     "tableResultSettingsMap": {},
     "title": ""
    }
   },
   "outputs": [],
   "source": [
    "quantiles_distance = df.approxQuantile(\"trip_distance\", [0.035, 0.965], 0.01)\n",
    "\n",
    "lower_bound_distance = quantiles_distance[0]  \n",
    "upper_bound_distance = quantiles_distance[1]\n",
    "\n",
    "df_filtered_distance = df.filter(\n",
    "    (F.col(\"trip_distance\") > lower_bound_distance) & \n",
    "    (F.col(\"trip_distance\") < upper_bound_distance)\n",
    ")\n",
    "num_summary(df_filtered_distance, numerical_cols=[\"trip_distance\"], plot=True)"
   ]
  },
  {
   "cell_type": "markdown",
   "metadata": {
    "application/vnd.databricks.v1+cell": {
     "cellMetadata": {
      "byteLimit": 2048000,
      "rowLimit": 10000
     },
     "inputWidgets": {},
     "nuid": "ca5b6b14-d888-40ef-9786-259a075c8744",
     "showTitle": false,
     "tableResultSettingsMap": {},
     "title": ""
    }
   },
   "source": [
    "- When we remove rows from the dataset based on threshold values, we can see that our trip_distance values ​​are distributed between [0.41, 10.78], with a mean of 2.35 and a standard of 2.03.\n",
    "\n",
    "- We can see that our total row count has decreased from 21,932 to 20,278. \n",
    "  * (Of course, this type of cleaning might be considered crude by the general approach, but we should keep in mind that this project is an introductory project to PySpark and DataBricks.)"
   ]
  },
  {
   "cell_type": "code",
   "execution_count": 0,
   "metadata": {
    "application/vnd.databricks.v1+cell": {
     "cellMetadata": {
      "byteLimit": 2048000,
      "rowLimit": 10000
     },
     "inputWidgets": {},
     "nuid": "714894fa-3a44-42a2-91b5-e0268e990ef8",
     "showTitle": false,
     "tableResultSettingsMap": {},
     "title": ""
    }
   },
   "outputs": [],
   "source": [
    "num_summary(df_filtered_distance, numerical_cols=[\"trip_duration_minutes\"], plot=True)\n",
    "desc_stats(df_filtered_distance, numerical_cols=[\"trip_duration_minutes\"])"
   ]
  },
  {
   "cell_type": "markdown",
   "metadata": {
    "application/vnd.databricks.v1+cell": {
     "cellMetadata": {
      "byteLimit": 2048000,
      "rowLimit": 10000
     },
     "inputWidgets": {},
     "nuid": "eb1df65c-5a55-4ce4-8535-317985f492eb",
     "showTitle": false,
     "tableResultSettingsMap": {},
     "title": ""
    }
   },
   "source": [
    "- Our next numerical variable is trip_duration_minutes. This variable isn't a variable found in the dataset; we calculated the duration of the taxi trip by taking the difference between the pickup_datetime and drop-off_datetime variables.\n",
    "\n",
    "- When I examine the data distribution, I see that it's distributed between [0.03, 1438.85], with a mean of 14.21 and a standard deviation of 51.27. This distribution, like the trip_distance variable, is skewed. Therefore, we'll find appropriate thresholds and perform row deletion to minimize information loss whenever possible.\n",
    "\n",
    "- We can also perform suppression, but since we're not building an ML model, I'm currently cleaning the data by removing outliers."
   ]
  },
  {
   "cell_type": "code",
   "execution_count": 0,
   "metadata": {
    "application/vnd.databricks.v1+cell": {
     "cellMetadata": {
      "byteLimit": 2048000,
      "rowLimit": 10000
     },
     "inputWidgets": {},
     "nuid": "4d625e73-4179-4cd4-bd2b-e6fb5744ba19",
     "showTitle": false,
     "tableResultSettingsMap": {},
     "title": ""
    }
   },
   "outputs": [],
   "source": [
    "quantiles_mins = df.approxQuantile(\"trip_duration_minutes\", [0.02, 0.98], 0.01)\n",
    "\n",
    "lower_bound_mins = quantiles_mins[0]  \n",
    "upper_bound_mins = quantiles_mins[1]\n",
    "\n",
    "df_filtered_mins = df_filtered_distance.filter(\n",
    "    (F.col(\"trip_duration_minutes\") > lower_bound_mins) & \n",
    "    (F.col(\"trip_duration_minutes\") < upper_bound_mins)\n",
    ")\n",
    "num_summary(df_filtered_mins, numerical_cols=[\"trip_duration_minutes\"], plot=True)\n",
    "desc_stats(df_filtered_mins, numerical_cols=[\"trip_duration_minutes\"])"
   ]
  },
  {
   "cell_type": "markdown",
   "metadata": {
    "application/vnd.databricks.v1+cell": {
     "cellMetadata": {
      "byteLimit": 2048000,
      "rowLimit": 10000
     },
     "inputWidgets": {},
     "nuid": "ff5bd23e-872b-4742-b56c-89d08201c603",
     "showTitle": false,
     "tableResultSettingsMap": {},
     "title": ""
    }
   },
   "source": [
    "- I set my threshold values ​​to [0.2, 0.98], and our total row count dropped to 19,841 rows. The number of observations in the dataset will continue to decrease, but decisions based on inferences derived from inaccurate data can incur significant costs. While obtaining clean data can be quite difficult and costly in real-world situations, working with inaccurate data and making business decisions can be even more costly."
   ]
  },
  {
   "cell_type": "code",
   "execution_count": 0,
   "metadata": {
    "application/vnd.databricks.v1+cell": {
     "cellMetadata": {
      "byteLimit": 2048000,
      "rowLimit": 10000
     },
     "inputWidgets": {},
     "nuid": "aca1e527-0c93-46f5-a006-6bfcdfa9ab6c",
     "showTitle": false,
     "tableResultSettingsMap": {},
     "title": ""
    }
   },
   "outputs": [],
   "source": [
    "num_summary(df_filtered_mins, ['avg_speed_mph'], plot=True)\n",
    "desc_stats(df_filtered_mins, numerical_cols=[\"avg_speed_mph\"])"
   ]
  },
  {
   "cell_type": "markdown",
   "metadata": {
    "application/vnd.databricks.v1+cell": {
     "cellMetadata": {
      "byteLimit": 2048000,
      "rowLimit": 10000
     },
     "inputWidgets": {},
     "nuid": "bcd0f795-a4ea-4bac-84ce-bfdc44aab52b",
     "showTitle": false,
     "tableResultSettingsMap": {},
     "title": ""
    }
   },
   "source": [
    "- After cleaning up the Trip_Distance and Trip_Duration_Minutes variables, the avg_speed_mph variable actually looks quite clean. Of course, a speed of 75.97 mph may be relatively high or low, but at this point, we can proceed as if there were no outliers in this variable."
   ]
  },
  {
   "cell_type": "code",
   "execution_count": 0,
   "metadata": {
    "application/vnd.databricks.v1+cell": {
     "cellMetadata": {
      "byteLimit": 2048000,
      "rowLimit": 10000
     },
     "inputWidgets": {},
     "nuid": "a5595a22-b1f1-4ef7-b1a4-335bde55c435",
     "showTitle": false,
     "tableResultSettingsMap": {},
     "title": ""
    }
   },
   "outputs": [],
   "source": [
    "num_summary(df_filtered_mins, [\"fare_amount\"], True)\n",
    "desc_stats(df_filtered_mins, numerical_cols=[\"fare_amount\"])"
   ]
  },
  {
   "cell_type": "markdown",
   "metadata": {
    "application/vnd.databricks.v1+cell": {
     "cellMetadata": {
      "byteLimit": 2048000,
      "rowLimit": 10000
     },
     "inputWidgets": {},
     "nuid": "98ad4591-cae6-4645-9f17-9fd95910da58",
     "showTitle": false,
     "tableResultSettingsMap": {},
     "title": ""
    }
   },
   "source": [
    "- I see some errors in the fare_amount variable. Looking at the overall distribution, there are values ​​less than 0 and values ​​like $65, which could be considered outliers but are considered very high compared to the overall distribution. I will remove these from the dataset as well."
   ]
  },
  {
   "cell_type": "code",
   "execution_count": 0,
   "metadata": {
    "application/vnd.databricks.v1+cell": {
     "cellMetadata": {
      "byteLimit": 2048000,
      "rowLimit": 10000
     },
     "inputWidgets": {},
     "nuid": "f90db1a6-5ebb-4229-8441-a5b8874715ee",
     "showTitle": false,
     "tableResultSettingsMap": {},
     "title": ""
    }
   },
   "outputs": [],
   "source": [
    "quantiles_famount = df_filtered_mins.approxQuantile(\"fare_amount\", [0.02,0.98], 0.01)\n",
    "lower_bound_famount = quantiles_famount[0]  \n",
    "upper_bound_famount = quantiles_famount[1]\n",
    "\n",
    "df_filtered_famount = df_filtered_mins.filter(\n",
    "    (F.col(\"fare_amount\") > lower_bound_mins) & \n",
    "    (F.col(\"fare_amount\") < upper_bound_mins)\n",
    ")\n",
    "num_summary(df_filtered_famount, numerical_cols=[\"fare_amount\"], plot=True)\n",
    "desc_stats(df_filtered_famount, numerical_cols=[\"fare_amount\"])"
   ]
  },
  {
   "cell_type": "markdown",
   "metadata": {
    "application/vnd.databricks.v1+cell": {
     "cellMetadata": {
      "byteLimit": 2048000,
      "rowLimit": 10000
     },
     "inputWidgets": {},
     "nuid": "2fcfe5bb-6e55-4ad1-8304-a25d12865f32",
     "showTitle": false,
     "tableResultSettingsMap": {},
     "title": ""
    }
   },
   "source": [
    "- I found that the 2% and 98% percentile values ​​for Fare_Amount were suitable thresholds for us. I removed any values ​​above or below these thresholds from the dataset, and now the dataset is numerically clean.\n",
    "\n",
    "- Contextually, we will determine whether the data contains logical errors when analyzing the categorical variables. However, the fare_amount variable currently has a distribution between $3.5 and $38, with a mean of $10.85 and a standard deviation of $5.92."
   ]
  },
  {
   "cell_type": "code",
   "execution_count": 0,
   "metadata": {
    "application/vnd.databricks.v1+cell": {
     "cellMetadata": {
      "byteLimit": 2048000,
      "rowLimit": 10000
     },
     "inputWidgets": {},
     "nuid": "f04e0c8e-8dda-442d-8cb8-625d63311047",
     "showTitle": false,
     "tableResultSettingsMap": {},
     "title": ""
    }
   },
   "outputs": [],
   "source": [
    "df = df_filtered_famount"
   ]
  },
  {
   "cell_type": "code",
   "execution_count": 0,
   "metadata": {
    "application/vnd.databricks.v1+cell": {
     "cellMetadata": {
      "byteLimit": 2048000,
      "rowLimit": 10000
     },
     "inputWidgets": {},
     "nuid": "92373c02-ca97-46ca-953d-e7714c704232",
     "showTitle": false,
     "tableResultSettingsMap": {},
     "title": ""
    }
   },
   "outputs": [],
   "source": [
    "df_ts = df.withColumn(\n",
    "    \"pickup_datetime\", \n",
    "    to_timestamp(col(\"pickup_datetime\"), \"yyyy-MM-dd HH:mm:ss\")\n",
    ").withColumn(\n",
    "    \"dropoff_datetime\", \n",
    "    to_timestamp(col(\"dropoff_datetime\"), \"yyyy-MM-dd HH:mm:ss\")\n",
    ")"
   ]
  },
  {
   "cell_type": "code",
   "execution_count": 0,
   "metadata": {
    "application/vnd.databricks.v1+cell": {
     "cellMetadata": {
      "byteLimit": 2048000,
      "rowLimit": 10000
     },
     "inputWidgets": {},
     "nuid": "ec661f14-709c-4a2b-91f1-d7b14b771650",
     "showTitle": false,
     "tableResultSettingsMap": {},
     "title": ""
    }
   },
   "outputs": [],
   "source": [
    "df_final = df_ts.withColumn(\"pickup_month\", month(col(\"pickup_datetime\"))) \\\n",
    "                .withColumn(\"pickup_day\", dayofmonth(col(\"pickup_datetime\"))) \\\n",
    "                .withColumn(\"pickup_hour_int\", hour(col(\"pickup_datetime\")))\n",
    "\n",
    "time_slot_col = F.lit(None).cast(\"string\")"
   ]
  },
  {
   "cell_type": "code",
   "execution_count": 0,
   "metadata": {
    "application/vnd.databricks.v1+cell": {
     "cellMetadata": {
      "byteLimit": 2048000,
      "rowLimit": 10000
     },
     "inputWidgets": {},
     "nuid": "efabbf68-0c6c-4ce5-89ce-40c63a9e6b6f",
     "showTitle": false,
     "tableResultSettingsMap": {},
     "title": ""
    }
   },
   "outputs": [],
   "source": [
    "for h in range(24):\n",
    "        start_hour = h\n",
    "        end_hour = (h + 1) % 24 \n",
    "        \n",
    "        if start_hour == 0:\n",
    "            start_str = \"12:00 AM\"\n",
    "        elif start_hour < 12:\n",
    "            start_str = f\"{start_hour:02d}:00 AM\"\n",
    "        elif start_hour == 12:\n",
    "            start_str = \"12:00 PM\"\n",
    "        else:\n",
    "            start_str = f\"{(start_hour - 12):02d}:00 PM\"\n",
    "            \n",
    "        if end_hour == 0:\n",
    "            end_str = \"12:00 AM\"\n",
    "        elif end_hour < 12:\n",
    "            end_str = f\"{end_hour:02d}:00 AM\"\n",
    "        elif end_hour == 12:\n",
    "            end_str = \"12:00 PM\"\n",
    "        else: \n",
    "            end_str = f\"{(end_hour - 12):02d}:00 PM\"\n",
    "        \n",
    "        \n",
    "        slot_label = f\"{start_str} - {end_str}\"\n",
    "        \n",
    "        time_slot_col = F.when(\n",
    "            F.col(\"pickup_hour_int\") == start_hour, \n",
    "            slot_label\n",
    "        ).otherwise(time_slot_col)\n",
    "\n",
    "df_final = df_final.withColumn(\"pickup_time_category\", time_slot_col)\n",
    "\n",
    "df_final = df_final.withColumn(\n",
    "            \"pickup_am_pm\",\n",
    "            when(col(\"pickup_hour_int\") < 12, lit(\"AM\"))\n",
    "            .otherwise(lit(\"PM\"))\n",
    ")\n",
    "df_final = df_final.drop(\"pickup_hour_int\")"
   ]
  },
  {
   "cell_type": "code",
   "execution_count": 0,
   "metadata": {
    "application/vnd.databricks.v1+cell": {
     "cellMetadata": {
      "byteLimit": 2048000,
      "rowLimit": 10000
     },
     "inputWidgets": {},
     "nuid": "b1f6fec2-72ae-4cc1-aed6-1c066ed196a8",
     "showTitle": false,
     "tableResultSettingsMap": {},
     "title": ""
    }
   },
   "outputs": [],
   "source": [
    "cat_summary(df_final, ['pickup_month','pickup_day','pickup_time_category', 'pickup_am_pm', 'Trip_Type', 'Combined_Zip'], plot= True)"
   ]
  },
  {
   "cell_type": "markdown",
   "metadata": {
    "application/vnd.databricks.v1+cell": {
     "cellMetadata": {
      "byteLimit": 2048000,
      "rowLimit": 10000
     },
     "inputWidgets": {},
     "nuid": "a49b1a9f-d5a1-43f1-ba44-dfd37ea35db7",
     "showTitle": false,
     "tableResultSettingsMap": {},
     "title": ""
    }
   },
   "source": [
    "- When I examine the dataset specifically for categorical variables, I see that we are working on an analysis covering only January and February of 2016. The number of trips made in January and February is very similar (50.64% in February, 49.36% in January). When I examine the frequency distribution of the trips made in our study by day, I see that the highest number of trips occurred on the 13th day. However, we don't know which month this value occurred on the 13th, which we will examine later.\n",
    "\n",
    "- I see that the number of trips made in the afternoon (PM) is significantly higher than the number of trips made before noon (AM). When I plot the frequency breakdown by time of day for the Pickup_Date variable, we clearly see that more trips occur in the second half of the day.\n",
    "\n",
    "- Above, I created a Trip_Type variable using the pickup_zipcode and dropp_off_zipcode variables. This variable stores information about the In-Zone if the zip code of a taxi driver's pickup location matches the zip code of the drop-off location; otherwise, the Out-Of-Zone information is stored. When I plot the data frequency using this variable, I see that Out-Of-Zone values ​​dominate.\n",
    "\n",
    "- When I plot the frequency using the Combined_Zip variable, the final categorical variable in my dataset, which combines the Pickup_Zipcode and Drop_Off_Zipcode values, we see that the most trips are made from zip codes such as 10028, 10021, 10023, 10003, and 10065."
   ]
  },
  {
   "cell_type": "code",
   "execution_count": 0,
   "metadata": {
    "application/vnd.databricks.v1+cell": {
     "cellMetadata": {
      "byteLimit": 2048000,
      "rowLimit": 10000
     },
     "inputWidgets": {},
     "nuid": "13423885-a02b-4c92-a496-efc5980de299",
     "showTitle": false,
     "tableResultSettingsMap": {},
     "title": ""
    }
   },
   "outputs": [],
   "source": [
    "cat_summary(df_final, ['pickup_day','pickup_time_category', 'pickup_am_pm', 'Trip_Type', 'Combined_Zip'], plot= True, hue= 'pickup_month')"
   ]
  },
  {
   "cell_type": "code",
   "execution_count": 0,
   "metadata": {
    "application/vnd.databricks.v1+cell": {
     "cellMetadata": {
      "byteLimit": 2048000,
      "rowLimit": 10000
     },
     "inputWidgets": {},
     "nuid": "6f9588ed-c8c4-4fd3-aa6e-2f0b1812292b",
     "showTitle": false,
     "tableResultSettingsMap": {},
     "title": ""
    }
   },
   "outputs": [],
   "source": [
    "cat_with_numerical(df_final, 'pickup_month','trip_distance','median',top_n = 10 )\n"
   ]
  },
  {
   "cell_type": "markdown",
   "metadata": {
    "application/vnd.databricks.v1+cell": {
     "cellMetadata": {
      "byteLimit": 2048000,
      "rowLimit": 10000
     },
     "inputWidgets": {},
     "nuid": "ca28c367-60e3-450d-9de8-5dedcf093c8e",
     "showTitle": false,
     "tableResultSettingsMap": {},
     "title": ""
    }
   },
   "source": [
    "- When I examine the two graphs, we see that the distribution of the trip_distance variable for the two months in the data set is very similar. Furthermore, when we examine the frequency distribution, we see that the number of trips between the two months is also very similar. When we examine the median values, we see that more trips were made in February than in January."
   ]
  },
  {
   "cell_type": "code",
   "execution_count": 0,
   "metadata": {
    "application/vnd.databricks.v1+cell": {
     "cellMetadata": {
      "byteLimit": 2048000,
      "rowLimit": 10000
     },
     "inputWidgets": {},
     "nuid": "c344bfa6-54ee-4b40-86bd-69e6b3238e80",
     "showTitle": false,
     "tableResultSettingsMap": {},
     "title": ""
    }
   },
   "outputs": [],
   "source": [
    "cat_with_numerical(df_final, 'pickup_month','trip_duration_minutes','median',top_n = 10 )"
   ]
  },
  {
   "cell_type": "code",
   "execution_count": 0,
   "metadata": {
    "application/vnd.databricks.v1+cell": {
     "cellMetadata": {
      "byteLimit": 2048000,
      "rowLimit": 10000
     },
     "inputWidgets": {},
     "nuid": "9dd6d508-30f7-4cbf-8488-7fe1c32a5429",
     "showTitle": false,
     "tableResultSettingsMap": {},
     "title": ""
    }
   },
   "outputs": [],
   "source": [
    "cat_with_numerical(df_final, 'pickup_month','trip_duration_minutes','sum',top_n = 10 )"
   ]
  },
  {
   "cell_type": "markdown",
   "metadata": {
    "application/vnd.databricks.v1+cell": {
     "cellMetadata": {
      "byteLimit": 2048000,
      "rowLimit": 10000
     },
     "inputWidgets": {},
     "nuid": "26c97933-ef1d-4caa-abfa-e6a55e1b5416",
     "showTitle": false,
     "tableResultSettingsMap": {},
     "title": ""
    }
   },
   "source": [
    "\n",
    "- When we examine the Trip_Duration_Minutes variable and the monthly distribution graphs, we see that the distributions for the two months are almost identical. The median values ​​are also equal. However, when we examine the total values, we see that the total travel time in February is higher than in January.\n"
   ]
  },
  {
   "cell_type": "code",
   "execution_count": 0,
   "metadata": {
    "application/vnd.databricks.v1+cell": {
     "cellMetadata": {
      "byteLimit": 2048000,
      "rowLimit": 10000
     },
     "inputWidgets": {},
     "nuid": "0b4e7295-4649-4d06-9687-bbb4b6138423",
     "showTitle": false,
     "tableResultSettingsMap": {},
     "title": ""
    }
   },
   "outputs": [],
   "source": [
    "cat_with_numerical(df_final, 'pickup_month','fare_amount','median',top_n = 10 )"
   ]
  },
  {
   "cell_type": "code",
   "execution_count": 0,
   "metadata": {
    "application/vnd.databricks.v1+cell": {
     "cellMetadata": {
      "byteLimit": 2048000,
      "rowLimit": 10000
     },
     "inputWidgets": {},
     "nuid": "d6d2bac4-9a86-4b0b-8be2-abd3f4c8b25c",
     "showTitle": false,
     "tableResultSettingsMap": {},
     "title": ""
    }
   },
   "outputs": [],
   "source": [
    "cat_with_numerical(df_final, 'pickup_month','fare_amount','sum',top_n = 10 )"
   ]
  },
  {
   "cell_type": "markdown",
   "metadata": {
    "application/vnd.databricks.v1+cell": {
     "cellMetadata": {
      "byteLimit": 2048000,
      "rowLimit": 10000
     },
     "inputWidgets": {},
     "nuid": "0ee063ac-5e14-4ef1-b888-8eebb556c7e9",
     "showTitle": false,
     "tableResultSettingsMap": {},
     "title": ""
    }
   },
   "source": [
    "\n",
    "- When we examine the fare amount variable and the monthly distribution graphs, we see that the distributions for the two months are almost identical. The median values are also equal. However, when we examine the total values, we see that the total travel time in February is higher than in January."
   ]
  },
  {
   "cell_type": "code",
   "execution_count": 0,
   "metadata": {
    "application/vnd.databricks.v1+cell": {
     "cellMetadata": {
      "byteLimit": 2048000,
      "rowLimit": 10000
     },
     "inputWidgets": {},
     "nuid": "e168cb56-0cf3-4e8c-b2c3-a91c4f00ba5f",
     "showTitle": false,
     "tableResultSettingsMap": {},
     "title": ""
    }
   },
   "outputs": [],
   "source": [
    "cat_with_numerical(df_final, 'pickup_month','avg_speed_mph','median',top_n = 10 )"
   ]
  },
  {
   "cell_type": "markdown",
   "metadata": {
    "application/vnd.databricks.v1+cell": {
     "cellMetadata": {
      "byteLimit": 2048000,
      "rowLimit": 10000
     },
     "inputWidgets": {},
     "nuid": "ac087b60-13d5-4a94-83bd-23136344b9c0",
     "showTitle": false,
     "tableResultSettingsMap": {},
     "title": ""
    }
   },
   "source": [
    "\n",
    "- In these two graphs comparing monthly average speeds, we can see that the average speed for trips in January was higher than in the previous month.\n",
    "\n",
    "- We observed a higher number of taxi trips in February. Due to the increased traffic congestion in February, we can assume that the average speed for vehicles during trips is naturally lower."
   ]
  },
  {
   "cell_type": "code",
   "execution_count": 0,
   "metadata": {
    "application/vnd.databricks.v1+cell": {
     "cellMetadata": {
      "byteLimit": 2048000,
      "rowLimit": 10000
     },
     "inputWidgets": {},
     "nuid": "165332f3-3232-48d0-b9cc-f44bf7c155fb",
     "showTitle": false,
     "tableResultSettingsMap": {},
     "title": ""
    }
   },
   "outputs": [],
   "source": [
    "cat_with_numerical(df_final, 'Trip_Type','trip_distance','median',top_n = 10 )"
   ]
  },
  {
   "cell_type": "markdown",
   "metadata": {
    "application/vnd.databricks.v1+cell": {
     "cellMetadata": {
      "byteLimit": 2048000,
      "rowLimit": 10000
     },
     "inputWidgets": {},
     "nuid": "33e69157-50d6-474f-b32b-3de4eb4d22af",
     "showTitle": false,
     "tableResultSettingsMap": {},
     "title": ""
    }
   },
   "source": [
    "\n",
    "- When I examine the scatter plots of the trip_type breakdown for the trip distance variable, I can clearly see that the out-of-zone values ​​have a wider distribution (left), while the in-zone values ​​have a more compact distribution. When we compare their medians, we see that the out-of-zone values ​​have a higher median.\n",
    "\n",
    "- However, it's important to note that there's a class imbalance for this variable. Our out-of-zone values ​​are more dominant than the other values ​​in the dataset. We need to keep this in mind when evaluating the other numerical breakdowns we'll perform for Trip_Type."
   ]
  },
  {
   "cell_type": "code",
   "execution_count": 0,
   "metadata": {
    "application/vnd.databricks.v1+cell": {
     "cellMetadata": {
      "byteLimit": 2048000,
      "rowLimit": 10000
     },
     "inputWidgets": {},
     "nuid": "6e036f12-4033-4b18-9ac0-2c965ddd1e4e",
     "showTitle": false,
     "tableResultSettingsMap": {},
     "title": ""
    }
   },
   "outputs": [],
   "source": [
    "cat_with_numerical(df_final, 'Trip_Type','trip_duration_minutes','median',top_n = 10 )"
   ]
  },
  {
   "cell_type": "code",
   "execution_count": 0,
   "metadata": {
    "application/vnd.databricks.v1+cell": {
     "cellMetadata": {
      "byteLimit": 2048000,
      "rowLimit": 10000
     },
     "inputWidgets": {},
     "nuid": "cc51c980-ee51-4d49-a2de-a9bb0f3417e8",
     "showTitle": false,
     "tableResultSettingsMap": {},
     "title": ""
    }
   },
   "outputs": [],
   "source": [
    "cat_with_numerical(df_final, 'Trip_Type','avg_speed_mph','median',top_n=10)"
   ]
  },
  {
   "cell_type": "code",
   "execution_count": 0,
   "metadata": {
    "application/vnd.databricks.v1+cell": {
     "cellMetadata": {
      "byteLimit": 2048000,
      "rowLimit": 10000
     },
     "inputWidgets": {},
     "nuid": "b4f35176-688d-43aa-a562-9144ad52b884",
     "showTitle": false,
     "tableResultSettingsMap": {},
     "title": ""
    }
   },
   "outputs": [],
   "source": [
    "cat_with_numerical(df_final, 'Trip_Type','fare_amount','sum',top_n=10)"
   ]
  },
  {
   "cell_type": "code",
   "execution_count": 0,
   "metadata": {
    "application/vnd.databricks.v1+cell": {
     "cellMetadata": {
      "byteLimit": 2048000,
      "rowLimit": 10000
     },
     "inputWidgets": {},
     "nuid": "3fdea874-a9d2-4338-bca0-477cb68fc96e",
     "showTitle": false,
     "tableResultSettingsMap": {},
     "title": ""
    }
   },
   "outputs": [],
   "source": [
    "cat_with_numerical(df_final, 'Combined_Zip','fare_amount','sum',top_n=10)"
   ]
  },
  {
   "cell_type": "code",
   "execution_count": 0,
   "metadata": {
    "application/vnd.databricks.v1+cell": {
     "cellMetadata": {
      "byteLimit": 2048000,
      "rowLimit": 10000
     },
     "inputWidgets": {},
     "nuid": "256eb48f-8b0e-4844-881d-a994736db454",
     "showTitle": false,
     "tableResultSettingsMap": {},
     "title": ""
    }
   },
   "outputs": [],
   "source": [
    "cat_with_numerical(df_final, 'Combined_Zip','fare_amount','median',top_n=10)"
   ]
  },
  {
   "cell_type": "markdown",
   "metadata": {
    "application/vnd.databricks.v1+cell": {
     "cellMetadata": {},
     "inputWidgets": {},
     "nuid": "26a99ad2-64dc-45ab-bf40-d46366071507",
     "showTitle": false,
     "tableResultSettingsMap": {},
     "title": ""
    }
   },
   "source": [
    "- When we examine the Combined_Zip and Fare_Amount variables from the perspective of both total and median values, we encounter an interesting result. While the 10021-10028 route, which has the highest frequency in the data set, has the highest total fare_amount compared to other travel routes, its median value is in the lower middle range.\n",
    "\n",
    "- Meanwhile, the 10021-10065 route, which ranks fifth in the data set in terms of highest frequency, has the lowest total fare_amount and median values."
   ]
  },
  {
   "cell_type": "code",
   "execution_count": 0,
   "metadata": {
    "application/vnd.databricks.v1+cell": {
     "cellMetadata": {
      "byteLimit": 2048000,
      "rowLimit": 10000
     },
     "inputWidgets": {},
     "nuid": "952b6d8d-eb21-4402-b0c5-2f89c9e06035",
     "showTitle": false,
     "tableResultSettingsMap": {},
     "title": ""
    }
   },
   "outputs": [],
   "source": [
    "cat_with_numerical(df_final, 'pickup_time_category','trip_distance','median',top_n=10)"
   ]
  },
  {
   "cell_type": "code",
   "execution_count": 0,
   "metadata": {
    "application/vnd.databricks.v1+cell": {
     "cellMetadata": {
      "byteLimit": 2048000,
      "rowLimit": 10000
     },
     "inputWidgets": {},
     "nuid": "8bc877ac-213c-40df-963c-136dc4bc92fc",
     "showTitle": false,
     "tableResultSettingsMap": {},
     "title": ""
    }
   },
   "outputs": [],
   "source": [
    "cat_with_numerical(df_final, 'pickup_time_category','trip_distance','sum',top_n=10)"
   ]
  },
  {
   "cell_type": "markdown",
   "metadata": {
    "application/vnd.databricks.v1+cell": {
     "cellMetadata": {},
     "inputWidgets": {},
     "nuid": "16793399-2808-45a9-b529-bdea3ed9de79",
     "showTitle": false,
     "tableResultSettingsMap": {},
     "title": ""
    }
   },
   "source": [
    "- When we examine the pickup_time_category variable for various numerical variables, we see that, on average, the longest trips generally occur between the hours of 10:00 PM - 11:00 PM, 9:00 PM - 10:00 PM, and 8:00 PM - 9:00 PM.\n",
    "\n",
    "- However, when I examine the total trip_distance values, I see that the longest trip time is between 6:00 PM - 7:00 PM, with a distance of 2915.52 miles. The average for this time period is 1.58."
   ]
  },
  {
   "cell_type": "code",
   "execution_count": 0,
   "metadata": {
    "application/vnd.databricks.v1+cell": {
     "cellMetadata": {
      "byteLimit": 2048000,
      "rowLimit": 10000
     },
     "inputWidgets": {},
     "nuid": "9ffdad85-d97b-42da-a7da-ed4c7ed1acc0",
     "showTitle": false,
     "tableResultSettingsMap": {},
     "title": ""
    }
   },
   "outputs": [],
   "source": [
    "cat_with_numerical(df_final, 'pickup_time_category','trip_duration_minutes','median',top_n=10)"
   ]
  },
  {
   "cell_type": "code",
   "execution_count": 0,
   "metadata": {
    "application/vnd.databricks.v1+cell": {
     "cellMetadata": {
      "byteLimit": 2048000,
      "rowLimit": 10000
     },
     "inputWidgets": {},
     "nuid": "b9a4bbe1-ca72-4d13-99ba-40dca362602b",
     "showTitle": false,
     "tableResultSettingsMap": {},
     "title": ""
    }
   },
   "outputs": [],
   "source": [
    "cat_with_numerical(df_final, 'pickup_time_category','trip_duration_minutes','sum',top_n=10)"
   ]
  },
  {
   "cell_type": "markdown",
   "metadata": {
    "application/vnd.databricks.v1+cell": {
     "cellMetadata": {},
     "inputWidgets": {},
     "nuid": "d3cd1e24-e87d-4fdd-9ce0-ecb28abe1205",
     "showTitle": false,
     "tableResultSettingsMap": {},
     "title": ""
    }
   },
   "source": [
    "- When we compare our trip_distance_minutes variable with time zones, we obtain information that confirms the previous graph. The time zone with the most time is between 06:00 PM and 07:00 PM."
   ]
  }
 ],
 "metadata": {
  "application/vnd.databricks.v1+notebook": {
   "computePreferences": null,
   "dashboards": [],
   "environmentMetadata": {
    "base_environment": "",
    "environment_version": "4"
   },
   "inputWidgetPreferences": null,
   "language": "python",
   "notebookMetadata": {
    "pythonIndentUnit": 4
   },
   "notebookName": "v01.ipynb",
   "widgets": {}
  },
  "language_info": {
   "name": "python"
  }
 },
 "nbformat": 4,
 "nbformat_minor": 0
}
